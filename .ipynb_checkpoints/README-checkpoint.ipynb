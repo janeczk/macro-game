{
 "cells": [
  {
   "cell_type": "markdown",
   "metadata": {},
   "source": [
    "# Dokumentacja narzędzia do automatyzacji rozgrywki w Margonem\n",
    "\n",
    "## Podstawowe założenia i cele\n",
    "- Projekt w swoim zamyśle ma na celu być jak najbezpieczniejszym narzędziem do automatyzacji rozgrywki, dalej zwany botem, macro. Poprzez zastosowanie rozwiązań opierających się na naśladowaniu gracza, tj. klikania myszką i klawiaturą, zachowujemy się bardziej jak człowiek, niż jak bot, co zmniejsza naszą szanse na wykrycie niepożądanych inputów przez grę. Większość botów korzysta z wyciągania informacji bezpośrednio ze strony (co zwiększa podejrzany traffic na stronie) i na tej podstawie podejmuje działania, ten projekt natomiast opiera się na tym co widzi na ekranie. <br>\n",
    "- Bot ma na celu zdobywanie przedmiotów poprzez pokonywanie przeciwników, a następnie je sprzedaje u handlarza i powtarza cykl."
   ]
  },
  {
   "cell_type": "code",
   "execution_count": 13,
   "metadata": {
    "vscode": {
     "languageId": "plaintext"
    }
   },
   "outputs": [],
   "source": [
    "from func import *\n",
    "from const import *\n",
    "from visualization import *"
   ]
  },
  {
   "cell_type": "markdown",
   "metadata": {},
   "source": [
    "## Czas pomiędzy akcjami gracza\n"
   ]
  },
  {
   "cell_type": "code",
   "execution_count": 14,
   "metadata": {},
   "outputs": [
    {
     "ename": "TypeError",
     "evalue": "type numpy.ndarray doesn't define __round__ method",
     "output_type": "error",
     "traceback": [
      "\u001b[1;31m---------------------------------------------------------------------------\u001b[0m",
      "\u001b[1;31mTypeError\u001b[0m                                 Traceback (most recent call last)",
      "Cell \u001b[1;32mIn[14], line 1\u001b[0m\n\u001b[1;32m----> 1\u001b[0m \u001b[43mcreate_hist\u001b[49m\u001b[43m(\u001b[49m\u001b[38;5;241;43m100000\u001b[39;49m\u001b[43m)\u001b[49m\n",
      "File \u001b[1;32m~\\OneDrive\\Desktop\\bocisko z prawdziwego zdarzenia\\visualization.py:19\u001b[0m, in \u001b[0;36mcreate_hist\u001b[1;34m(n)\u001b[0m\n\u001b[0;32m     17\u001b[0m arr \u001b[38;5;241m=\u001b[39m []\n\u001b[0;32m     18\u001b[0m \u001b[38;5;28;01mfor\u001b[39;00m i \u001b[38;5;129;01min\u001b[39;00m \u001b[38;5;28mrange\u001b[39m(n):\n\u001b[1;32m---> 19\u001b[0m     arr\u001b[38;5;241m.\u001b[39mappend(\u001b[38;5;28;43mround\u001b[39;49m\u001b[43m(\u001b[49m\u001b[43mfunc\u001b[49m\u001b[38;5;241;43m.\u001b[39;49m\u001b[43mwait\u001b[49m\u001b[43m(\u001b[49m\u001b[43m)\u001b[49m\u001b[43m,\u001b[49m\u001b[38;5;241;43m4\u001b[39;49m\u001b[43m)\u001b[49m)\n\u001b[0;32m     20\u001b[0m plt\u001b[38;5;241m.\u001b[39mhist(arr,bins\u001b[38;5;241m=\u001b[39m\u001b[38;5;241m100\u001b[39m,\u001b[38;5;28mrange\u001b[39m\u001b[38;5;241m=\u001b[39m[\u001b[38;5;241m0\u001b[39m,\u001b[38;5;241m2\u001b[39m])\n\u001b[0;32m     21\u001b[0m plt\u001b[38;5;241m.\u001b[39mshow()\n",
      "\u001b[1;31mTypeError\u001b[0m: type numpy.ndarray doesn't define __round__ method"
     ]
    }
   ],
   "source": [
    "create_hist(100000)"
   ]
  },
  {
   "cell_type": "code",
   "execution_count": null,
   "metadata": {},
   "outputs": [],
   "source": []
  },
  {
   "cell_type": "code",
   "execution_count": null,
   "metadata": {},
   "outputs": [],
   "source": []
  }
 ],
 "metadata": {
  "kernelspec": {
   "display_name": "Python 3 (ipykernel)",
   "language": "python",
   "name": "python3"
  },
  "language_info": {
   "codemirror_mode": {
    "name": "ipython",
    "version": 3
   },
   "file_extension": ".py",
   "mimetype": "text/x-python",
   "name": "python",
   "nbconvert_exporter": "python",
   "pygments_lexer": "ipython3",
   "version": "3.12.4"
  }
 },
 "nbformat": 4,
 "nbformat_minor": 4
}
